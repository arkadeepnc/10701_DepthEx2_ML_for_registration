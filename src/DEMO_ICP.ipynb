{
 "metadata": {
  "language_info": {
   "codemirror_mode": {
    "name": "ipython",
    "version": 3
   },
   "file_extension": ".py",
   "mimetype": "text/x-python",
   "name": "python",
   "nbconvert_exporter": "python",
   "pygments_lexer": "ipython3",
   "version": "3.7.6"
  },
  "orig_nbformat": 2,
  "kernelspec": {
   "name": "python376jvsc74a57bd0dad65ec1fd180b3a4214b89e9d248fd37f50d773d9f3a830ed592f375f3e2a83",
   "display_name": "Python 3.7.6 64-bit (conda)"
  }
 },
 "nbformat": 4,
 "nbformat_minor": 2,
 "cells": [
  {
   "cell_type": "code",
   "execution_count": 1,
   "metadata": {},
   "outputs": [
    {
     "output_type": "stream",
     "name": "stdout",
     "text": [
      "Using matplotlib backend: Qt5Agg\n"
     ]
    }
   ],
   "source": [
    "import numpy as np\n",
    "import open3d as o3d\n",
    "import utils\n",
    "from sklearn.neighbors import NearestNeighbors\n",
    "import matplotlib.pyplot as plt\n",
    "%matplotlib"
   ]
  },
  {
   "cell_type": "code",
   "execution_count": 20,
   "metadata": {},
   "outputs": [],
   "source": [
    "# code adapted from: https://github.com/ClayFlannigan/icp\n",
    "def calculate_transform(X, Y):\n",
    "\n",
    "    # get number of dimensions\n",
    "    dims = X.shape[1]\n",
    "\n",
    "    #calculate Xbar, Xprime\n",
    "    Xbar = np.mean(X, axis=0)\n",
    "    Xp = X - Xbar\n",
    "    #calculate Ybar and Yprime\n",
    "    Ybar = np.mean(Y, axis=0)\n",
    "    Yp = Y - Ybar\n",
    "\n",
    "    H = np.dot(Xp.T, Yp)\n",
    "    U, S, Vt = np.linalg.svd(H)\n",
    "    #calculate the rotation matrix\n",
    "    R = np.dot(Vt.T, U.T)\n",
    "\n",
    "    #account for if the image is flipped\n",
    "    if np.linalg.det(R) < 0:\n",
    "       Vt[m-1,:] *= -1\n",
    "       R = np.dot(Vt.T, U.T)\n",
    "\n",
    "    #calculate the translation vector\n",
    "    t = centroid_Y.T - np.dot(R,centroid_X.T)\n",
    "    T = np.identity(dims+1)\n",
    "\n",
    "    #append everything to a single matrix for easier math\n",
    "    T[:dims, :dims] = R\n",
    "    T[:dims, dims] = t\n",
    "    return T, R, t\n",
    "\n",
    "\n",
    "def NN1(src, dst):\n",
    "    neigh = NearestNeighbors(n_neighbors=1).fit(dst)\n",
    "    dist, idx = neigh.kneighbors(src, return_distance=True)\n",
    "    return dist.ravel(), idx.ravel()\n",
    "\n",
    "def icp(X, Y, iters=20, convergence=0.001):\n",
    "\n",
    "    dims = X.shape[1]\n",
    "\n",
    "    # copy point clouds and append extra dimension for matrix math\n",
    "    src = np.ones((dims+1,X.shape[0]))\n",
    "    src[:dims,:] = np.copy(X.T)\n",
    "\n",
    "    dst = np.ones((dims+1,Y.shape[0]))\n",
    "    dst[:dims,:] = np.copy(Y.T)\n",
    "\n",
    "    prev_error = 0\n",
    "\n",
    "    for i in range(iters):\n",
    "        # Use 1 nearest neighbor for point assignment\n",
    "        distances, indices = NN1(src[:dims,:].T, dst[:dims,:].T)\n",
    "\n",
    "        # compute the transform for the point assignment\n",
    "        Tau,_,_ = calculate_transform(src[:dims,:].T, dst[:dims,indices].T)\n",
    "\n",
    "        # apply transform \n",
    "        src = np.dot(Tau, src)\n",
    "\n",
    "        # check for convergence\n",
    "        mean_error = np.mean(distances)\n",
    "        if np.abs(prev_error - mean_error) < convergence:\n",
    "            break\n",
    "        prev_error = mean_error\n",
    "\n",
    "    # calculate final transformation\n",
    "    Tau,_,_ = calculate_transform(X, src[:dims,:].T)\n",
    "\n",
    "    return T, distances, i"
   ]
  },
  {
   "cell_type": "code",
   "execution_count": 21,
   "metadata": {},
   "outputs": [],
   "source": [
    "def rotation_matrix(axis, theta):\n",
    "    axis = axis/np.sqrt(np.dot(axis, axis))\n",
    "    a = np.cos(theta/2.)\n",
    "    b, c, d = -axis*np.sin(theta/2.)\n",
    "    return np.array([[a*a+b*b-c*c-d*d, 2*(b*c-a*d), 2*(b*d+a*c)],\n",
    "                  [2*(b*c+a*d), a*a+c*c-b*b-d*d, 2*(c*d-a*b)],\n",
    "                  [2*(b*d-a*c), 2*(c*d+a*b), a*a+d*d-b*b-c*c]])"
   ]
  },
  {
   "cell_type": "code",
   "execution_count": 22,
   "metadata": {},
   "outputs": [
    {
     "output_type": "stream",
     "name": "stdout",
     "text": [
      "PointCloud with 91 points.\nPointCloud with 91 points.\n"
     ]
    }
   ],
   "source": [
    "source, target = utils.prepare_source_and_target_nonrigid_3d('fish-y.txt', 'fish-y.txt', 0.001)\n",
    "source_np = np.asarray(source.points)\n",
    "source_np = source_np+np.random.rand()*.1\n",
    "source_np = np.dot(rotation_matrix(np.random.rand(3),np.random.rand()*1),source_np.T).T\n",
    "target_np = np.asarray(target.points)"
   ]
  },
  {
   "cell_type": "code",
   "execution_count": 23,
   "metadata": {},
   "outputs": [
    {
     "output_type": "execute_result",
     "data": {
      "text/plain": [
       "<matplotlib.legend.Legend at 0x218b0b2fe88>"
      ]
     },
     "metadata": {},
     "execution_count": 23
    }
   ],
   "source": [
    "fig = plt.figure()\n",
    "ax = fig.add_subplot(projection = '3d')\n",
    "ax.scatter(source_np[:,0], source_np[:,1], source_np[:,2], marker = '.', label = 'source', s = 100.0 )\n",
    "ax.scatter(target_np[:,0], target_np[:,1], target_np[:,2], marker = '*', label = 'target', s = 100.0 )\n",
    "plt.legend()"
   ]
  },
  {
   "cell_type": "code",
   "execution_count": 24,
   "metadata": {},
   "outputs": [],
   "source": [
    "Transform, R1, t1 = icp(source_np, target_np,convergence=0.0001)"
   ]
  },
  {
   "cell_type": "code",
   "execution_count": 25,
   "metadata": {},
   "outputs": [],
   "source": [
    "C = np.ones((91, 4))\n",
    "C[:,0:3] = np.copy(source_np)\n",
    "registered = np.dot(Transform,(C).T).T"
   ]
  },
  {
   "cell_type": "code",
   "execution_count": 26,
   "metadata": {},
   "outputs": [
    {
     "output_type": "execute_result",
     "data": {
      "text/plain": [
       "<matplotlib.legend.Legend at 0x218b1314fc8>"
      ]
     },
     "metadata": {},
     "execution_count": 26
    }
   ],
   "source": [
    "fig = plt.figure()\n",
    "ax = fig.add_subplot(projection = '3d')\n",
    "ax.scatter(registered[:,0], registered[:,1], registered[:,3]-1, marker = '.', label = 'source', s = 100.0 )\n",
    "ax.scatter(target_np[:,0], target_np[:,1], target_np[:,2], marker = '*', label = 'target', s = 100.0 )\n",
    "plt.legend()"
   ]
  },
  {
   "cell_type": "code",
   "execution_count": null,
   "metadata": {},
   "outputs": [],
   "source": []
  }
 ]
}